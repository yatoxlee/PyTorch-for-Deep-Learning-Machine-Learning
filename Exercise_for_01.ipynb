{
  "nbformat": 4,
  "nbformat_minor": 0,
  "metadata": {
    "colab": {
      "provenance": [],
      "gpuType": "T4",
      "authorship_tag": "ABX9TyMeze74/YsMBDYQimhmDJOc",
      "include_colab_link": true
    },
    "kernelspec": {
      "name": "python3",
      "display_name": "Python 3"
    },
    "language_info": {
      "name": "python"
    },
    "accelerator": "GPU"
  },
  "cells": [
    {
      "cell_type": "markdown",
      "metadata": {
        "id": "view-in-github",
        "colab_type": "text"
      },
      "source": [
        "<a href=\"https://colab.research.google.com/github/yatoxlee/PyTorch-for-Deep-Learning-Machine-Learning/blob/main/Exercise_for_01.ipynb\" target=\"_parent\"><img src=\"https://colab.research.google.com/assets/colab-badge.svg\" alt=\"Open In Colab\"/></a>"
      ]
    },
    {
      "cell_type": "code",
      "execution_count": null,
      "metadata": {
        "id": "_D6P6O9qqrMD"
      },
      "outputs": [],
      "source": [
        "import torch as tc\n",
        "from torch import nn\n",
        "import numpy\n",
        "import matplotlib.pyplot as plt\n"
      ]
    },
    {
      "cell_type": "code",
      "source": [
        "# device agnostic\n",
        "device = \"cuda\" if tc.cuda.is_available() == True else \"cpu\"\n",
        "print(f\"Using device: {device}\")"
      ],
      "metadata": {
        "colab": {
          "base_uri": "https://localhost:8080/"
        },
        "id": "eFR0JkRs0f4J",
        "outputId": "b3951028-ffde-485f-d16b-8ea3ecc8beff"
      },
      "execution_count": null,
      "outputs": [
        {
          "output_type": "stream",
          "name": "stdout",
          "text": [
            "Using device: cuda\n"
          ]
        }
      ]
    },
    {
      "cell_type": "code",
      "source": [
        "weight = 0.3\n",
        "bias = 0.9\n",
        "\n",
        "start = 0\n",
        "end = 100\n",
        "step = 1\n",
        "\"\"\"\n",
        "# 这里有个2个trick\n",
        "第一个时arange中强调了dtype = tc.float32，因为arange自己创建的步长为1的range可能是int64类型的，而pytorch的默认类型是float32.\n",
        "第二个是在创建数据集的时候加了一个unsqueeze，给X加了一个维度，让它能够与nn.Linear中的weight相乘。\n",
        "\n",
        "\"\"\"\n",
        "X = tc.arange(0,100,1,dtype=tc.float32).unsqueeze(dim=1)\n",
        "Y = weight * X + bias\n",
        "\n",
        "# 输出前十个以供查验\n",
        "# print(f\"the type of X is {X.dtype}\")\n",
        "# print(f\"the type of Y is {Y.dtype}\")\n",
        "\n",
        "X[:10],Y[:10]"
      ],
      "metadata": {
        "colab": {
          "base_uri": "https://localhost:8080/"
        },
        "id": "pxCoWoHZ5nps",
        "outputId": "44fcaa87-24c1-41b1-ad85-4e520f6f82a9"
      },
      "execution_count": null,
      "outputs": [
        {
          "output_type": "execute_result",
          "data": {
            "text/plain": [
              "(tensor([[0.],\n",
              "         [1.],\n",
              "         [2.],\n",
              "         [3.],\n",
              "         [4.],\n",
              "         [5.],\n",
              "         [6.],\n",
              "         [7.],\n",
              "         [8.],\n",
              "         [9.]]),\n",
              " tensor([[0.9000],\n",
              "         [1.2000],\n",
              "         [1.5000],\n",
              "         [1.8000],\n",
              "         [2.1000],\n",
              "         [2.4000],\n",
              "         [2.7000],\n",
              "         [3.0000],\n",
              "         [3.3000],\n",
              "         [3.6000]]))"
            ]
          },
          "metadata": {},
          "execution_count": 3
        }
      ]
    },
    {
      "cell_type": "code",
      "source": [
        "\"\"\"\n",
        "Split data into training and testing sets.\n",
        "\"\"\"\n",
        "proportion = 0.8\n",
        "train_num = int(proportion * len(X))\n",
        "# print(type(train_num))\n",
        "Xtrain = X[:train_num]\n",
        "Ytrain = Y[:train_num]\n",
        "Xtest = X[train_num:]\n",
        "Ytest = Y[train_num:]\n",
        "print(Xtrain[::10])"
      ],
      "metadata": {
        "colab": {
          "base_uri": "https://localhost:8080/"
        },
        "id": "ZWjArZC57ogo",
        "outputId": "3b4c2edf-637b-4c1d-ac04-7abb09f2a7ca"
      },
      "execution_count": null,
      "outputs": [
        {
          "output_type": "stream",
          "name": "stdout",
          "text": [
            "tensor([[ 0.],\n",
            "        [10.],\n",
            "        [20.],\n",
            "        [30.],\n",
            "        [40.],\n",
            "        [50.],\n",
            "        [60.],\n",
            "        [70.]])\n"
          ]
        }
      ]
    },
    {
      "cell_type": "code",
      "source": [
        "\"\"\"\n",
        "Visulization function.\n",
        "\"\"\"\n",
        "def plot_predictions(train_data=Xtrain,\n",
        "                     train_labels=Ytrain,\n",
        "                     test_data=Xtest,\n",
        "                     test_labels=Ytest,\n",
        "                     predictions=None):\n",
        "  \"\"\"\n",
        "  Visualize the prediction results.\n",
        "  \"\"\"\n",
        "  plt.figure()\n",
        "  plt.scatter(train_data,train_labels,c=\"b\",s=4, label = \"Train data\")\n",
        "  plt.scatter(test_data,test_labels,c=\"g\",s=4, label = \"Test data\")\n",
        "\n",
        "  if predictions != None:\n",
        "    plt.scatter(test_data,predictions, c=\"r\", s=4, label=\"Predictions\")\n",
        "\n",
        "  plt.legend()"
      ],
      "metadata": {
        "id": "rj2gJ_q3BLHT"
      },
      "execution_count": null,
      "outputs": []
    },
    {
      "cell_type": "code",
      "source": [
        "\"\"\"\n",
        "Building the model.\n",
        "\"\"\"\n",
        "class LinearRegressionModel(nn.Module):\n",
        "  def __init__(self):\n",
        "    super().__init__()\n",
        "    self.linear_layer = nn.Linear(in_features=1,out_features=1)\n",
        "    # self.weights = nn.Parameter(tc.randn(1,dtype=tc.float),requires_grad=True)\n",
        "    # self.bias = nn.Parameter(tc.randn(1,dtype=tc.float),requires_grad=True)\n",
        "\n",
        "  def forward(self, x: tc.tensor) -> tc.tensor:\n",
        "    return self.linear_layer(x)\n",
        "    # return self.weights * x + self.bias\n",
        "\n",
        "\n",
        "tc.manual_seed(42)\n",
        "model0 = LinearRegressionModel()\n",
        "model0.state_dict()"
      ],
      "metadata": {
        "colab": {
          "base_uri": "https://localhost:8080/"
        },
        "id": "bbA1uY_d92Ww",
        "outputId": "01cd9648-bc3a-4ecd-fbbe-ae1bb0736a9b"
      },
      "execution_count": null,
      "outputs": [
        {
          "output_type": "execute_result",
          "data": {
            "text/plain": [
              "OrderedDict([('linear_layer.weight', tensor([[0.7645]])),\n",
              "             ('linear_layer.bias', tensor([0.8300]))])"
            ]
          },
          "metadata": {},
          "execution_count": 6
        }
      ]
    },
    {
      "cell_type": "markdown",
      "source": [
        "OrderedDict([('linear_layer.weight', tensor([[0.7645]])),\n",
        "             ('linear_layer.bias', tensor([0.8300]))])\n",
        "\n",
        "\n",
        "OrderedDict([('weights', tensor([0.3367])), ('bias', tensor([0.1288]))])\n"
      ],
      "metadata": {
        "id": "oZhpNQvs_qGc"
      }
    },
    {
      "cell_type": "code",
      "source": [
        "\"\"\"\n",
        "This part may not be available for the approach of linear_layer by nn.Linear()\n",
        "\"\"\"\n",
        "\n",
        "with tc.inference_mode():\n",
        "  ypreds = model0(Xtest)\n",
        "\n",
        "plot_predictions(predictions=ypreds)\n",
        "\n",
        "\n",
        "# Check the predictions\n",
        "print(f\"Number of testing samples: {len(Xtest)}\")\n",
        "print(f\"Number of predictions made: {len(ypreds)}\")\n",
        "print(f\"Predicted values:\\n{ypreds}\")"
      ],
      "metadata": {
        "colab": {
          "base_uri": "https://localhost:8080/",
          "height": 846
        },
        "id": "ynj4V83-Fp6Z",
        "outputId": "10f9c2b4-d829-49d4-adf5-8d9e8d9ff18e"
      },
      "execution_count": null,
      "outputs": [
        {
          "output_type": "stream",
          "name": "stdout",
          "text": [
            "Number of testing samples: 20\n",
            "Number of predictions made: 20\n",
            "Predicted values:\n",
            "tensor([[61.9931],\n",
            "        [62.7576],\n",
            "        [63.5222],\n",
            "        [64.2867],\n",
            "        [65.0512],\n",
            "        [65.8158],\n",
            "        [66.5803],\n",
            "        [67.3449],\n",
            "        [68.1094],\n",
            "        [68.8739],\n",
            "        [69.6385],\n",
            "        [70.4030],\n",
            "        [71.1676],\n",
            "        [71.9321],\n",
            "        [72.6966],\n",
            "        [73.4612],\n",
            "        [74.2257],\n",
            "        [74.9902],\n",
            "        [75.7548],\n",
            "        [76.5193]])\n"
          ]
        },
        {
          "output_type": "display_data",
          "data": {
            "text/plain": [
              "<Figure size 640x480 with 1 Axes>"
            ],
            "image/png": "[encoded data removed]"
          },
          "metadata": {}
        }
      ]
    },
    {
      "cell_type": "code",
      "source": [
        "\"\"\"\n",
        "Picking up loss function and optimizer\n",
        "\"\"\"\n",
        "# 选择损失函数\n",
        "loss_fn = nn.L1Loss()\n",
        "\n",
        "# 定义optimizer，需要传入需要训练模型的所有参数，以及定义一个学习率。\n",
        "optimizer = tc.optim.SGD(params=model0.parameters(),lr=0.002)\n"
      ],
      "metadata": {
        "id": "pCsAQZrR0FmZ"
      },
      "execution_count": null,
      "outputs": []
    },
    {
      "cell_type": "code",
      "source": [
        "from os import tcgetpgrp\n",
        "tc.manual_seed(42)\n",
        "\n",
        "iterate = 2000\n",
        "\n",
        "# Create empty loss lists to track values\n",
        "train_loss_values = []\n",
        "test_loss_values = []\n",
        "epoch_count = []\n",
        "\n",
        "for i in range(iterate):\n",
        "\n",
        "  # Training section\n",
        "  model0.train()\n",
        "  ypreds = model0(Xtrain)\n",
        "  loss = loss_fn(Ytrain,ypreds)\n",
        "  optimizer.zero_grad()\n",
        "  loss.backward()\n",
        "  optimizer.step()\n",
        "\n",
        "  # Prediction section\n",
        "  model0.eval()\n",
        "  with tc.inference_mode():\n",
        "    testpreds = model0(Xtest)\n",
        "    testloss = loss_fn(testpreds, Ytest.type(tc.float))\n",
        "\n",
        "    if i % 50 == 0:\n",
        "      epoch_count.append(i)\n",
        "      train_loss_values.append(loss)\n",
        "      test_loss_values.append(testloss)\n",
        "      print(f\"iterate:{i}|MAE train loss:{loss}|test loss:{testloss}\")\n"
      ],
      "metadata": {
        "colab": {
          "base_uri": "https://localhost:8080/"
        },
        "id": "CEsfcYjv15U8",
        "outputId": "ec8266d0-d07a-49aa-eade-0ff0fca3b702"
      },
      "execution_count": null,
      "outputs": [
        {
          "output_type": "stream",
          "name": "stdout",
          "text": [
            "iterate:0|MAE train loss:18.281030654907227|test loss:34.433753967285156\n",
            "iterate:50|MAE train loss:0.4077382981777191|test loss:6.249197483062744\n",
            "iterate:100|MAE train loss:0.3558562397956848|test loss:6.363589286804199\n",
            "iterate:150|MAE train loss:0.3120749592781067|test loss:6.4598798751831055\n",
            "iterate:200|MAE train loss:0.31082671880722046|test loss:6.461127281188965\n",
            "iterate:250|MAE train loss:0.30957767367362976|test loss:6.462378025054932\n",
            "iterate:300|MAE train loss:0.30832886695861816|test loss:6.463625907897949\n",
            "iterate:350|MAE train loss:0.30708035826683044|test loss:6.464873313903809\n",
            "iterate:400|MAE train loss:0.3058316111564636|test loss:6.466124534606934\n",
            "iterate:450|MAE train loss:0.30458277463912964|test loss:6.467371940612793\n",
            "iterate:500|MAE train loss:0.3033343255519867|test loss:6.468619346618652\n",
            "iterate:550|MAE train loss:0.3020854592323303|test loss:6.469870567321777\n",
            "iterate:600|MAE train loss:0.3008367121219635|test loss:6.471117973327637\n",
            "iterate:650|MAE train loss:0.2995882034301758|test loss:6.472365379333496\n",
            "iterate:700|MAE train loss:0.2983393967151642|test loss:6.473616600036621\n",
            "iterate:750|MAE train loss:0.2970903515815735|test loss:6.4748640060424805\n",
            "iterate:800|MAE train loss:0.29584211111068726|test loss:6.476114749908447\n",
            "iterate:850|MAE train loss:0.29459327459335327|test loss:6.477362632751465\n",
            "iterate:900|MAE train loss:0.29334431886672974|test loss:6.478610038757324\n",
            "iterate:950|MAE train loss:0.29209548234939575|test loss:6.479860782623291\n",
            "iterate:1000|MAE train loss:0.2908472418785095|test loss:6.481108665466309\n",
            "iterate:1050|MAE train loss:0.2895981967449188|test loss:6.482356071472168\n",
            "iterate:1100|MAE train loss:0.2883493900299072|test loss:6.483606815338135\n",
            "iterate:1150|MAE train loss:0.2871008813381195|test loss:6.484854698181152\n",
            "iterate:1200|MAE train loss:0.2858521342277527|test loss:6.486102104187012\n",
            "iterate:1250|MAE train loss:0.2846032977104187|test loss:6.4873528480529785\n",
            "iterate:1300|MAE train loss:0.28335484862327576|test loss:6.488600730895996\n",
            "iterate:1350|MAE train loss:0.2821059823036194|test loss:6.4898481369018555\n",
            "iterate:1400|MAE train loss:0.28085723519325256|test loss:6.491098880767822\n",
            "iterate:1450|MAE train loss:0.27960872650146484|test loss:6.49234676361084\n",
            "iterate:1500|MAE train loss:0.27835991978645325|test loss:6.493594169616699\n",
            "iterate:1550|MAE train loss:0.27711087465286255|test loss:6.494844913482666\n",
            "iterate:1600|MAE train loss:0.2758626341819763|test loss:6.496092796325684\n",
            "iterate:1650|MAE train loss:0.27461379766464233|test loss:6.497340202331543\n",
            "iterate:1700|MAE train loss:0.2733648419380188|test loss:6.49859094619751\n",
            "iterate:1750|MAE train loss:0.2721159756183624|test loss:6.499838829040527\n",
            "iterate:1800|MAE train loss:0.2708677649497986|test loss:6.501086235046387\n",
            "iterate:1850|MAE train loss:0.2696187198162079|test loss:6.5023369789123535\n",
            "iterate:1900|MAE train loss:0.2683699131011963|test loss:6.503584861755371\n",
            "iterate:1950|MAE train loss:0.26712140440940857|test loss:6.5048322677612305\n"
          ]
        }
      ]
    },
    {
      "cell_type": "code",
      "source": [
        "model0.state_dict()"
      ],
      "metadata": {
        "colab": {
          "base_uri": "https://localhost:8080/"
        },
        "id": "2kQ1lFv748Tq",
        "outputId": "f9cd9645-01a2-4d74-e3a4-8a364e157a6f"
      },
      "execution_count": null,
      "outputs": [
        {
          "output_type": "execute_result",
          "data": {
            "text/plain": [
              "OrderedDict([('linear_layer.weight', tensor([[0.2940]])),\n",
              "             ('linear_layer.bias', tensor([0.8716]))])"
            ]
          },
          "metadata": {},
          "execution_count": 10
        }
      ]
    },
    {
      "cell_type": "code",
      "source": [
        "\"\"\"\n",
        "Making predictions with a trained Pytorch model.\n",
        "\"\"\"\n",
        "with tc.inference_mode():\n",
        "  ypreds = model0(Xtest)\n",
        "print(ypreds)\n",
        "plot_predictions(predictions=ypreds)"
      ],
      "metadata": {
        "colab": {
          "base_uri": "https://localhost:8080/",
          "height": 789
        },
        "id": "n9pPic7PCUC3",
        "outputId": "2227cf18-ddb5-4106-ae29-592795444c57"
      },
      "execution_count": null,
      "outputs": [
        {
          "output_type": "stream",
          "name": "stdout",
          "text": [
            "tensor([[24.3907],\n",
            "        [24.6847],\n",
            "        [24.9787],\n",
            "        [25.2727],\n",
            "        [25.5666],\n",
            "        [25.8606],\n",
            "        [26.1546],\n",
            "        [26.4486],\n",
            "        [26.7426],\n",
            "        [27.0366],\n",
            "        [27.3306],\n",
            "        [27.6246],\n",
            "        [27.9186],\n",
            "        [28.2125],\n",
            "        [28.5065],\n",
            "        [28.8005],\n",
            "        [29.0945],\n",
            "        [29.3885],\n",
            "        [29.6825],\n",
            "        [29.9765]])\n"
          ]
        },
        {
          "output_type": "display_data",
          "data": {
            "text/plain": [
              "<Figure size 640x480 with 1 Axes>"
            ],
            "image/png": "[encoded data removed]"
          },
          "metadata": {}
        }
      ]
    },
    {
      "cell_type": "code",
      "source": [
        "\"\"\"\n",
        "Saving the trained model.\n",
        "\"\"\"\n",
        "\n",
        "from pathlib import Path\n",
        "\n",
        "# 1.Create Directory\n",
        "Model_Path = Path(\"model\")\n",
        "Model_Path.mkdir(parents=True, exist_ok=True)\n",
        "\n",
        "# 2.Create model save path\n",
        "Model_Name = \"Exercise_01.pth\"\n",
        "Model_Save_Path = Model_Path/Model_Name\n",
        "\n",
        "# 3.Save the model state dict.\n",
        "print(f\"Saving model to: {Model_Save_Path}\")\n",
        "tc.save(obj = model0.state_dict(), f=Model_Save_Path)\n"
      ],
      "metadata": {
        "colab": {
          "base_uri": "https://localhost:8080/"
        },
        "id": "aqzqy6qJD-mI",
        "outputId": "48407c70-e186-44b1-ccd1-15e585ccc27a"
      },
      "execution_count": null,
      "outputs": [
        {
          "output_type": "stream",
          "name": "stdout",
          "text": [
            "Saving model to: model/Exercise_01.pth\n"
          ]
        }
      ]
    },
    {
      "cell_type": "code",
      "source": [
        "model1 = LinearRegressionModel()\n",
        "model1.load_state_dict(tc.load(Model_Save_Path))"
      ],
      "metadata": {
        "colab": {
          "base_uri": "https://localhost:8080/"
        },
        "id": "_NFTB-FjGtt1",
        "outputId": "b3975694-05dc-4139-9c73-6c6f6c343d27"
      },
      "execution_count": null,
      "outputs": [
        {
          "output_type": "stream",
          "name": "stderr",
          "text": [
            "<ipython-input-13-cafa7bfc8e3c>:2: FutureWarning: You are using `torch.load` with `weights_only=False` (the current default value), which uses the default pickle module implicitly. It is possible to construct malicious pickle data which will execute arbitrary code during unpickling (See https://github.com/pytorch/pytorch/blob/main/SECURITY.md#untrusted-models for more details). In a future release, the default value for `weights_only` will be flipped to `True`. This limits the functions that could be executed during unpickling. Arbitrary objects will no longer be allowed to be loaded via this mode unless they are explicitly allowlisted by the user via `torch.serialization.add_safe_globals`. We recommend you start setting `weights_only=True` for any use case where you don't have full control of the loaded file. Please open an issue on GitHub for any issues related to this experimental feature.\n",
            "  model1.load_state_dict(tc.load(Model_Save_Path))\n"
          ]
        },
        {
          "output_type": "execute_result",
          "data": {
            "text/plain": [
              "<All keys matched successfully>"
            ]
          },
          "metadata": {},
          "execution_count": 13
        }
      ]
    },
    {
      "cell_type": "code",
      "source": [
        "with tc.inference_mode():\n",
        "  ypreds_load = model1(Xtest)\n",
        "  ypreds = model0(Xtest)\n",
        "ypreds_load == ypreds"
      ],
      "metadata": {
        "colab": {
          "base_uri": "https://localhost:8080/"
        },
        "id": "VZyqQZ71JVGS",
        "outputId": "e56daec3-b637-4942-9254-39c45efabe19"
      },
      "execution_count": null,
      "outputs": [
        {
          "output_type": "execute_result",
          "data": {
            "text/plain": [
              "tensor([[True],\n",
              "        [True],\n",
              "        [True],\n",
              "        [True],\n",
              "        [True],\n",
              "        [True],\n",
              "        [True],\n",
              "        [True],\n",
              "        [True],\n",
              "        [True],\n",
              "        [True],\n",
              "        [True],\n",
              "        [True],\n",
              "        [True],\n",
              "        [True],\n",
              "        [True],\n",
              "        [True],\n",
              "        [True],\n",
              "        [True],\n",
              "        [True]])"
            ]
          },
          "metadata": {},
          "execution_count": 14
        }
      ]
    },
    {
      "cell_type": "code",
      "source": [],
      "metadata": {
        "id": "_oLi6jP9J7bN"
      },
      "execution_count": null,
      "outputs": []
    }
  ]
}